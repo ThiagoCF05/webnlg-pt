{
 "cells": [
  {
   "cell_type": "markdown",
   "metadata": {},
   "source": [
    "# Preparing the data \n",
    "\n",
    "Randomly split the data in 80% for training, 20% for dev"
   ]
  },
  {
   "cell_type": "code",
   "execution_count": 5,
   "metadata": {},
   "outputs": [],
   "source": [
    "import os\n",
    "from random import shuffle"
   ]
  },
  {
   "cell_type": "code",
   "execution_count": 7,
   "metadata": {},
   "outputs": [
    {
     "data": {
      "text/plain": [
       "(472, 119)"
      ]
     },
     "execution_count": 7,
     "metadata": {},
     "output_type": "execute_result"
    }
   ],
   "source": [
    "def parse(machine, human):\n",
    "    data = list(zip(machine, human))\n",
    "    \n",
    "    size = len(data)\n",
    "    trainsize = int(size * 0.8)\n",
    "    \n",
    "    shuffle(data)\n",
    "    traindata = data[:trainsize]\n",
    "    devdata = data[trainsize:]\n",
    "    \n",
    "    return traindata, devdata\n",
    "    \n",
    "path = 'data'\n",
    "with open(os.path.join(path, 'machine.trg')) as f:\n",
    "    machine = f.read().split('\\n')\n",
    "    \n",
    "with open(os.path.join(path, 'human.trg')) as f:\n",
    "    human = f.read().split('\\n')\n",
    "\n",
    "traindata, devdata = parse(machine, human)\n",
    "\n",
    "with open('data/corpus.src', 'w') as f:\n",
    "    f.write('\\n'.join([w[0] for w in traindata]))\n",
    "    \n",
    "with open('data/corpus.trg', 'w') as f:\n",
    "    f.write('\\n'.join([w[1] for w in traindata]))\n",
    "    \n",
    "with open('data/dev.src', 'w') as f:\n",
    "    f.write('\\n'.join([w[0] for w in devdata]))\n",
    "    \n",
    "with open('data/dev.trg', 'w') as f:\n",
    "    f.write('\\n'.join([w[1] for w in devdata]))"
   ]
  },
  {
   "cell_type": "code",
   "execution_count": null,
   "metadata": {},
   "outputs": [],
   "source": []
  }
 ],
 "metadata": {
  "kernelspec": {
   "display_name": "Python 3",
   "language": "python",
   "name": "python3"
  },
  "language_info": {
   "codemirror_mode": {
    "name": "ipython",
    "version": 3
   },
   "file_extension": ".py",
   "mimetype": "text/x-python",
   "name": "python",
   "nbconvert_exporter": "python",
   "pygments_lexer": "ipython3",
   "version": "3.7.7"
  }
 },
 "nbformat": 4,
 "nbformat_minor": 4
}
